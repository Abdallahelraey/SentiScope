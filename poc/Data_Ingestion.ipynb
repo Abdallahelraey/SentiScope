{
 "cells": [
  {
   "cell_type": "code",
   "execution_count": 1,
   "metadata": {},
   "outputs": [
    {
     "data": {
      "text/plain": [
       "'d:\\\\AI\\\\NLP\\\\HandsOn\\\\sentiment-analysis'"
      ]
     },
     "execution_count": 1,
     "metadata": {},
     "output_type": "execute_result"
    }
   ],
   "source": [
    "import os\n",
    "os.chdir(\"../\")\n",
    "%pwd"
   ]
  },
  {
   "cell_type": "code",
   "execution_count": 2,
   "metadata": {},
   "outputs": [],
   "source": [
    "from dataclasses import dataclass\n",
    "from pathlib import Path\n",
    "\n",
    "@dataclass(frozen=True)\n",
    "class DataIngestionConfig:\n",
    "    root_dir: Path\n",
    "    source_URL: str\n",
    "    local_data_file: Path\n",
    "    unzip_dir: Path"
   ]
  },
  {
   "cell_type": "code",
   "execution_count": 3,
   "metadata": {},
   "outputs": [],
   "source": [
    "from SentiScope.constants import *\n",
    "from SentiScope.utils.file_utils import *\n",
    "from SentiScope.utils.config_utils import *"
   ]
  },
  {
   "cell_type": "code",
   "execution_count": 4,
   "metadata": {},
   "outputs": [],
   "source": [
    "from SentiScope.constants import (CONFIG_FILE_PATH,\n",
    "                                  PARAMS_FILE_PATH)\n",
    "from SentiScope.utils.file_utils import (create_directories,\n",
    "                                            get_size)\n",
    "from SentiScope.utils.config_utils import (read_yaml,\n",
    "                                           Settings,\n",
    "                                           get_settings)"
   ]
  },
  {
   "cell_type": "code",
   "execution_count": 5,
   "metadata": {},
   "outputs": [],
   "source": [
    "class ConfigurationManager:\n",
    "    def __init__(\n",
    "        self,\n",
    "        config_filepath = CONFIG_FILE_PATH,\n",
    "        params_filepath = PARAMS_FILE_PATH):\n",
    "\n",
    "        self.config = read_yaml(config_filepath)\n",
    "        self.params = read_yaml(params_filepath)\n",
    "\n",
    "        create_directories([self.config.artifacts_root])\n",
    "\n",
    "    \n",
    "\n",
    "    def get_data_ingestion_config(self) -> DataIngestionConfig:\n",
    "        config = self.config.data_ingestion\n",
    "\n",
    "        create_directories([config.root_dir])\n",
    "\n",
    "        data_ingestion_config = DataIngestionConfig(\n",
    "            root_dir=config.root_dir,\n",
    "            source_URL=config.source_URL,\n",
    "            local_data_file=config.local_data_file,\n",
    "            unzip_dir=config.unzip_dir \n",
    "        )\n",
    "\n",
    "        return data_ingestion_config"
   ]
  },
  {
   "cell_type": "code",
   "execution_count": 6,
   "metadata": {},
   "outputs": [],
   "source": [
    "from SentiScope.logging import logger"
   ]
  },
  {
   "cell_type": "code",
   "execution_count": 7,
   "metadata": {},
   "outputs": [],
   "source": [
    "from SentiScope.utils.data_utils import download_data, unzip_data,load_data_to_dataframe"
   ]
  },
  {
   "cell_type": "code",
   "execution_count": 12,
   "metadata": {},
   "outputs": [],
   "source": [
    "from datetime import datetime\n",
    "from pathlib import Path\n",
    "import json\n",
    "\n",
    "class DataIngestion:\n",
    "    def __init__(self, config: DataIngestionConfig):\n",
    "        self.config = config\n",
    "        self.data_uri = self.config.source_URL\n",
    "        \n",
    "        # Create timestamp directory\n",
    "        self.timestamp = datetime.now().strftime('%Y%m%d_%H%M%S')\n",
    "        self.root_dir = Path(self.config.root_dir)\n",
    "        self.output_dir = self.root_dir / self.timestamp\n",
    "        self.output_dir.mkdir(parents=True, exist_ok=True)\n",
    "        \n",
    "        # Update paths to use timestamp directory\n",
    "        # Just use the filename from the config, not the full path\n",
    "        self.local_data_file = self.output_dir / Path(self.config.local_data_file).name\n",
    "        self.unzip_dir = self.output_dir / \"unzipped\"\n",
    "        \n",
    "        logger.info(f\"Initialized DataIngestion with output directory: {self.output_dir}\")\n",
    "\n",
    "    def Ingest_data_uri(self):\n",
    "        try:\n",
    "            # Ensure parent directories exist\n",
    "            self.local_data_file.parent.mkdir(parents=True, exist_ok=True)\n",
    "            \n",
    "            logger.info(f\"Downloading data from {self.data_uri}\")\n",
    "            download_data(self.data_uri, str(self.local_data_file))  # Convert Path to string\n",
    "            logger.info(f\"Data downloaded to {self.local_data_file}\")\n",
    "\n",
    "            logger.info(f\"Unzipping data to {self.unzip_dir}\")\n",
    "            self.unzip_dir.mkdir(parents=True, exist_ok=True)  # Ensure unzip directory exists\n",
    "            unzip_data(str(self.local_data_file), str(self.unzip_dir))  # Convert Paths to strings\n",
    "            logger.info(f\"Data unzipped successfully\")\n",
    "\n",
    "            logger.info(f\"Loading data from {self.local_data_file}\")\n",
    "            df = load_data_to_dataframe(str(self.local_data_file))  # Convert Path to string\n",
    "            logger.info(f\"Data loaded into DataFrame\")\n",
    "\n",
    "            # Save metadata about the ingestion\n",
    "            metadata = {\n",
    "                'timestamp': self.timestamp,\n",
    "                'data_source': str(self.data_uri),\n",
    "                'local_data_file': str(self.local_data_file),\n",
    "                'unzip_dir': str(self.unzip_dir),\n",
    "                'data_shape': df.shape if hasattr(df, 'shape') else None\n",
    "            }\n",
    "            \n",
    "            with open(self.output_dir / 'ingestion_metadata.json', 'w') as f:\n",
    "                json.dump(metadata, f, indent=4)\n",
    "\n",
    "            return df\n",
    "        \n",
    "        except Exception as e:\n",
    "            logger.error(f\"Error during data ingestion: {e}\")\n",
    "            raise"
   ]
  },
  {
   "cell_type": "code",
   "execution_count": 13,
   "metadata": {},
   "outputs": [
    {
     "name": "stdout",
     "output_type": "stream",
     "text": [
      "[2025-01-14 00:13:12,144: INFO: config_utils: yaml file: config\\config.yaml loaded successfully]\n",
      "[2025-01-14 00:13:12,147: INFO: config_utils: yaml file: params.yaml loaded successfully]\n",
      "[2025-01-14 00:13:12,148: INFO: file_utils: created directory at: artifacts]\n",
      "[2025-01-14 00:13:12,150: INFO: file_utils: created directory at: artifacts/data_ingestion]\n",
      "[2025-01-14 00:13:12,156: INFO: 1303275637: Initialized DataIngestion with output directory: artifacts\\data_ingestion\\20250114_001312]\n",
      "[2025-01-14 00:13:12,157: INFO: 1303275637: Downloading data from https://www.kaggle.com/api/v1/datasets/download/charunisa/chatgpt-sentiment-analysis]\n",
      "[2025-01-14 00:13:24,274: INFO: data_utils: Data downloaded successfully to artifacts\\data_ingestion\\20250114_001312\\data.zip]\n",
      "[2025-01-14 00:13:24,276: INFO: 1303275637: Data downloaded to artifacts\\data_ingestion\\20250114_001312\\data.zip]\n",
      "[2025-01-14 00:13:24,277: INFO: 1303275637: Unzipping data to artifacts\\data_ingestion\\20250114_001312\\unzipped]\n",
      "[2025-01-14 00:13:24,530: INFO: data_utils: Data unzipped successfully to artifacts\\data_ingestion\\20250114_001312\\unzipped]\n",
      "[2025-01-14 00:13:24,531: INFO: 1303275637: Data unzipped successfully]\n",
      "[2025-01-14 00:13:24,531: INFO: 1303275637: Loading data from artifacts\\data_ingestion\\20250114_001312\\data.zip]\n",
      "[2025-01-14 00:13:25,941: INFO: 1303275637: Data loaded into DataFrame]\n"
     ]
    }
   ],
   "source": [
    "try:\n",
    "    config = ConfigurationManager()\n",
    "    data_ingestion_config = config.get_data_ingestion_config()\n",
    "    data_ingestion = DataIngestion(config=data_ingestion_config)\n",
    "    DataFrame = data_ingestion.Ingest_data_uri()\n",
    "    DataFrame.head(10)\n",
    "except Exception as e:\n",
    "    raise e"
   ]
  },
  {
   "cell_type": "code",
   "execution_count": 14,
   "metadata": {},
   "outputs": [
    {
     "data": {
      "text/html": [
       "<div>\n",
       "<style scoped>\n",
       "    .dataframe tbody tr th:only-of-type {\n",
       "        vertical-align: middle;\n",
       "    }\n",
       "\n",
       "    .dataframe tbody tr th {\n",
       "        vertical-align: top;\n",
       "    }\n",
       "\n",
       "    .dataframe thead th {\n",
       "        text-align: right;\n",
       "    }\n",
       "</style>\n",
       "<table border=\"1\" class=\"dataframe\">\n",
       "  <thead>\n",
       "    <tr style=\"text-align: right;\">\n",
       "      <th></th>\n",
       "      <th>Unnamed: 0</th>\n",
       "      <th>tweets</th>\n",
       "      <th>labels</th>\n",
       "    </tr>\n",
       "  </thead>\n",
       "  <tbody>\n",
       "    <tr>\n",
       "      <th>0</th>\n",
       "      <td>0</td>\n",
       "      <td>ChatGPT: Optimizing Language Models for Dialog...</td>\n",
       "      <td>neutral</td>\n",
       "    </tr>\n",
       "    <tr>\n",
       "      <th>1</th>\n",
       "      <td>1</td>\n",
       "      <td>Try talking with ChatGPT, our new AI system wh...</td>\n",
       "      <td>good</td>\n",
       "    </tr>\n",
       "    <tr>\n",
       "      <th>2</th>\n",
       "      <td>2</td>\n",
       "      <td>ChatGPT: Optimizing Language Models for Dialog...</td>\n",
       "      <td>neutral</td>\n",
       "    </tr>\n",
       "    <tr>\n",
       "      <th>3</th>\n",
       "      <td>3</td>\n",
       "      <td>THRILLED to share that ChatGPT, our new model ...</td>\n",
       "      <td>good</td>\n",
       "    </tr>\n",
       "    <tr>\n",
       "      <th>4</th>\n",
       "      <td>4</td>\n",
       "      <td>As of 2 minutes ago, @OpenAI released their ne...</td>\n",
       "      <td>bad</td>\n",
       "    </tr>\n",
       "    <tr>\n",
       "      <th>5</th>\n",
       "      <td>5</td>\n",
       "      <td>Just launched ChatGPT, our new AI system which...</td>\n",
       "      <td>good</td>\n",
       "    </tr>\n",
       "    <tr>\n",
       "      <th>6</th>\n",
       "      <td>6</td>\n",
       "      <td>As of 2 minutes ago, @OpenAI released their ne...</td>\n",
       "      <td>bad</td>\n",
       "    </tr>\n",
       "    <tr>\n",
       "      <th>7</th>\n",
       "      <td>7</td>\n",
       "      <td>ChatGPT coming out strong refusing to help me ...</td>\n",
       "      <td>good</td>\n",
       "    </tr>\n",
       "    <tr>\n",
       "      <th>8</th>\n",
       "      <td>8</td>\n",
       "      <td>#0penAl just deployed a thing I've been helpin...</td>\n",
       "      <td>good</td>\n",
       "    </tr>\n",
       "    <tr>\n",
       "      <th>9</th>\n",
       "      <td>9</td>\n",
       "      <td>Research preview of our newest model: ChatGPT\\...</td>\n",
       "      <td>neutral</td>\n",
       "    </tr>\n",
       "  </tbody>\n",
       "</table>\n",
       "</div>"
      ],
      "text/plain": [
       "   Unnamed: 0                                             tweets   labels\n",
       "0           0  ChatGPT: Optimizing Language Models for Dialog...  neutral\n",
       "1           1  Try talking with ChatGPT, our new AI system wh...     good\n",
       "2           2  ChatGPT: Optimizing Language Models for Dialog...  neutral\n",
       "3           3  THRILLED to share that ChatGPT, our new model ...     good\n",
       "4           4  As of 2 minutes ago, @OpenAI released their ne...      bad\n",
       "5           5  Just launched ChatGPT, our new AI system which...     good\n",
       "6           6  As of 2 minutes ago, @OpenAI released their ne...      bad\n",
       "7           7  ChatGPT coming out strong refusing to help me ...     good\n",
       "8           8  #0penAl just deployed a thing I've been helpin...     good\n",
       "9           9  Research preview of our newest model: ChatGPT\\...  neutral"
      ]
     },
     "execution_count": 14,
     "metadata": {},
     "output_type": "execute_result"
    }
   ],
   "source": [
    "DataFrame.head(10)"
   ]
  },
  {
   "cell_type": "code",
   "execution_count": null,
   "metadata": {},
   "outputs": [],
   "source": []
  },
  {
   "cell_type": "code",
   "execution_count": null,
   "metadata": {},
   "outputs": [],
   "source": []
  },
  {
   "cell_type": "code",
   "execution_count": null,
   "metadata": {},
   "outputs": [],
   "source": []
  },
  {
   "cell_type": "code",
   "execution_count": null,
   "metadata": {},
   "outputs": [],
   "source": []
  }
 ],
 "metadata": {
  "kernelspec": {
   "display_name": "SentiScope-env",
   "language": "python",
   "name": "python3"
  },
  "language_info": {
   "codemirror_mode": {
    "name": "ipython",
    "version": 3
   },
   "file_extension": ".py",
   "mimetype": "text/x-python",
   "name": "python",
   "nbconvert_exporter": "python",
   "pygments_lexer": "ipython3",
   "version": "3.11.0"
  }
 },
 "nbformat": 4,
 "nbformat_minor": 2
}
