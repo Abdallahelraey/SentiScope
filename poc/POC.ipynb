{
 "cells": [
  {
   "cell_type": "code",
   "execution_count": 13,
   "metadata": {},
   "outputs": [
    {
     "data": {
      "text/plain": [
       "'d:\\\\AI\\\\NLP\\\\HandsOn\\\\sentiment-analysis'"
      ]
     },
     "execution_count": 13,
     "metadata": {},
     "output_type": "execute_result"
    }
   ],
   "source": [
    "import os\n",
    "os.chdir(\"../\")\n",
    "%pwd"
   ]
  },
  {
   "cell_type": "markdown",
   "metadata": {},
   "source": [
    "# Advanced Modeling:"
   ]
  },
  {
   "cell_type": "code",
   "execution_count": 23,
   "metadata": {},
   "outputs": [],
   "source": [
    "from transformers import AutoTokenizer, AutoModelForSequenceClassification\n",
    "import torch\n",
    "import numpy as np\n",
    "\n",
    "# Load the model and tokenizer\n",
    "MODEL = \"cardiffnlp/twitter-roberta-base-sentiment\"\n",
    "tokenizer = AutoTokenizer.from_pretrained(MODEL)\n",
    "model = AutoModelForSequenceClassification.from_pretrained(MODEL)\n",
    "\n",
    "# Define labels for sentiment\n",
    "labels = [\"bad\", \"neutral\",  \"good\"]\n",
    "\n",
    "def predict_sentiment(text):\n",
    "    # Tokenize the input text\n",
    "    inputs = tokenizer(text, return_tensors=\"pt\", truncation=True, padding=True)\n",
    "    \n",
    "    # Get model predictions\n",
    "    outputs = model(**inputs)\n",
    "    scores = outputs.logits.detach().numpy()\n",
    "    probabilities = torch.nn.functional.softmax(torch.tensor(scores), dim=-1)\n",
    "    \n",
    "    # Determine the sentiment\n",
    "    sentiment_index = np.argmax(probabilities.numpy(), axis=1)[0]\n",
    "    sentiment = labels[sentiment_index]\n",
    "    confidence = probabilities[0][sentiment_index].item()\n",
    "    \n",
    "    return sentiment, confidence\n"
   ]
  },
  {
   "cell_type": "code",
   "execution_count": 15,
   "metadata": {},
   "outputs": [
    {
     "name": "stdout",
     "output_type": "stream",
     "text": [
      "Sentiment Analysis Demo\n",
      "Type 'exit' to quit the demo.\n"
     ]
    },
    {
     "name": "stderr",
     "output_type": "stream",
     "text": [
      "Asking to truncate to max_length but no maximum length is provided and the model has no predefined maximum length. Default to no truncation.\n"
     ]
    },
    {
     "name": "stdout",
     "output_type": "stream",
     "text": [
      "Sentiment: Positive (Confidence: 0.95)\n",
      "Sentiment: Negative (Confidence: 0.88)\n",
      "Sentiment: Neutral (Confidence: 0.79)\n",
      "Sentiment: Negative (Confidence: 0.63)\n",
      "Exiting the demo. Goodbye!\n"
     ]
    }
   ],
   "source": [
    "# Simple interactive demo\n",
    "if __name__ == \"__main__\":\n",
    "    print(\"Sentiment Analysis Demo\")\n",
    "    print(\"Type 'exit' to quit the demo.\")\n",
    "    while True:\n",
    "        text = input(\"\\nEnter text to analyze: \")\n",
    "        if text.lower() == 'exit':\n",
    "            print(\"Exiting the demo. Goodbye!\")\n",
    "            break\n",
    "        sentiment, confidence = predict_sentiment(text)\n",
    "        print(f\"Sentiment: {sentiment} (Confidence: {confidence:.2f})\")"
   ]
  },
  {
   "cell_type": "markdown",
   "metadata": {},
   "source": [
    "----"
   ]
  },
  {
   "cell_type": "markdown",
   "metadata": {},
   "source": [
    "### Appling the same thing on our data that we have:"
   ]
  },
  {
   "cell_type": "code",
   "execution_count": 36,
   "metadata": {},
   "outputs": [],
   "source": [
    "import pandas as pd\n",
    "data = pd.read_csv(r\"D:\\AI\\NLP\\HandsOn\\sentiment-analysis\\artifacts\\feature_transformation\\20250116_043222\\test_split.csv\",index_col=0)\n",
    "data = data.head(50)"
   ]
  },
  {
   "cell_type": "code",
   "execution_count": 38,
   "metadata": {},
   "outputs": [
    {
     "data": {
      "text/html": [
       "<div>\n",
       "<style scoped>\n",
       "    .dataframe tbody tr th:only-of-type {\n",
       "        vertical-align: middle;\n",
       "    }\n",
       "\n",
       "    .dataframe tbody tr th {\n",
       "        vertical-align: top;\n",
       "    }\n",
       "\n",
       "    .dataframe thead th {\n",
       "        text-align: right;\n",
       "    }\n",
       "</style>\n",
       "<table border=\"1\" class=\"dataframe\">\n",
       "  <thead>\n",
       "    <tr style=\"text-align: right;\">\n",
       "      <th></th>\n",
       "      <th>tweets</th>\n",
       "      <th>labels</th>\n",
       "      <th>processed_text</th>\n",
       "      <th>text_length</th>\n",
       "    </tr>\n",
       "    <tr>\n",
       "      <th>Unnamed: 0</th>\n",
       "      <th></th>\n",
       "      <th></th>\n",
       "      <th></th>\n",
       "      <th></th>\n",
       "    </tr>\n",
       "  </thead>\n",
       "  <tbody>\n",
       "    <tr>\n",
       "      <th>162912</th>\n",
       "      <td>How will ChatGPT affect the Web3 space? Indust...</td>\n",
       "      <td>bad</td>\n",
       "      <td>chatgpt affect web3 space industri answer</td>\n",
       "      <td>104</td>\n",
       "    </tr>\n",
       "    <tr>\n",
       "      <th>77419</th>\n",
       "      <td>Thank you ChatGPT 🥲 https://t.co/zc3V7LZyhk ht...</td>\n",
       "      <td>neutral</td>\n",
       "      <td>thank chatgpt</td>\n",
       "      <td>67</td>\n",
       "    </tr>\n",
       "    <tr>\n",
       "      <th>32239</th>\n",
       "      <td>ChatGPT prompt: “Write a letter from Demeter t...</td>\n",
       "      <td>neutral</td>\n",
       "      <td>chatgpt prompt write letter demet hade form co...</td>\n",
       "      <td>144</td>\n",
       "    </tr>\n",
       "  </tbody>\n",
       "</table>\n",
       "</div>"
      ],
      "text/plain": [
       "                                                       tweets   labels  \\\n",
       "Unnamed: 0                                                               \n",
       "162912      How will ChatGPT affect the Web3 space? Indust...      bad   \n",
       "77419       Thank you ChatGPT 🥲 https://t.co/zc3V7LZyhk ht...  neutral   \n",
       "32239       ChatGPT prompt: “Write a letter from Demeter t...  neutral   \n",
       "\n",
       "                                               processed_text  text_length  \n",
       "Unnamed: 0                                                                  \n",
       "162912              chatgpt affect web3 space industri answer          104  \n",
       "77419                                           thank chatgpt           67  \n",
       "32239       chatgpt prompt write letter demet hade form co...          144  "
      ]
     },
     "execution_count": 38,
     "metadata": {},
     "output_type": "execute_result"
    }
   ],
   "source": [
    "data.head(3)"
   ]
  },
  {
   "cell_type": "code",
   "execution_count": 39,
   "metadata": {},
   "outputs": [],
   "source": [
    "data[\"data_sentiment\"]  = data[\"tweets\"].apply(predict_sentiment)"
   ]
  },
  {
   "cell_type": "code",
   "execution_count": 40,
   "metadata": {},
   "outputs": [],
   "source": [
    "data[\"sentiment_label\"] = data[\"data_sentiment\"].apply(lambda x: x[0])"
   ]
  },
  {
   "cell_type": "code",
   "execution_count": 41,
   "metadata": {},
   "outputs": [
    {
     "data": {
      "image/png": "[encoded data removed]",
      "text/plain": [
       "<Figure size 1400x600 with 2 Axes>"
      ]
     },
     "metadata": {},
     "output_type": "display_data"
    }
   ],
   "source": [
    "import matplotlib.pyplot as plt\n",
    "\n",
    "fig, axes = plt.subplots(nrows=1, ncols=2, figsize=(14, 6))\n",
    "\n",
    "# Plot for 'labels' column\n",
    "data['labels'].value_counts().plot(kind='bar', ax=axes[0], title='Labels Distribution')\n",
    "axes[0].set_xlabel('Labels')\n",
    "axes[0].set_ylabel('Count')\n",
    "\n",
    "# Plot for 'sentiment_label' column\n",
    "data['sentiment_label'].value_counts().plot(kind='bar', ax=axes[1], title='ROBerta Sentiment Label Distribution')\n",
    "axes[1].set_xlabel('Sentiment Label')\n",
    "axes[1].set_ylabel('Count')\n",
    "\n",
    "plt.tight_layout()\n",
    "plt.show()"
   ]
  },
  {
   "cell_type": "markdown",
   "metadata": {},
   "source": [
    "- As you can see there ie undeniable difference between teh actual labels we have and Roberata classified labels\n",
    "\n",
    "- Lets sort this out by `Human Validation`"
   ]
  },
  {
   "cell_type": "code",
   "execution_count": 44,
   "metadata": {},
   "outputs": [
    {
     "name": "stdout",
     "output_type": "stream",
     "text": [
      "Tweet: ai potenti drive cyber use creat phish email imperson host compani gener vba code emb microsoft excel document infect comput open code download\n",
      "Original Sentiment: neutral\n",
      "Predicted Sentiment: bad (Confidence: 0.71)\n"
     ]
    }
   ],
   "source": [
    "# Choose a specific tweet\n",
    "tweet_index = 15  # Change this index to select a different tweet\n",
    "selected_tweet = data.iloc[tweet_index]\n",
    "\n",
    "# Display the original sentiment and the predicted sentiment for the selected tweet\n",
    "print(f\"Tweet: {selected_tweet['processed_text']}\")\n",
    "print(f\"Original Sentiment: {selected_tweet['labels']}\")\n",
    "print(f\"Predicted Sentiment: {selected_tweet['sentiment_label']} (Confidence: {selected_tweet['data_sentiment'][1]:.2f})\")"
   ]
  },
  {
   "cell_type": "markdown",
   "metadata": {},
   "source": [
    "#### If you played onough with testing how the ROBerta model clasify text againest teh actual labels you willl find that Roberta is actually right in most cases, that makes us go with one of the following options\n",
    "- Curate the dataset with RoBERTa’s labels and retrain baseline models.\n",
    "- Use RoBERTa as the main model for sentiment analysis.\n",
    "- Get human labelers to relabel the dataset.\n",
    "\n",
    "Each of those options have it's Pros and Cons and you can choose the one you find suitable for your use  case here we will go with RoBERTa as our model as it is already fintuned on the very same usecase of ours and it is already deployed on huggin faces models hub so we can use it's free endpoint for our demo perposes. "
   ]
  },
  {
   "cell_type": "markdown",
   "metadata": {},
   "source": [
    "-----"
   ]
  },
  {
   "cell_type": "markdown",
   "metadata": {},
   "source": [
    "### The whole  code all togither"
   ]
  },
  {
   "cell_type": "code",
   "execution_count": 45,
   "metadata": {},
   "outputs": [],
   "source": [
    "from transformers import AutoTokenizer, AutoModelForSequenceClassification\n",
    "import torch\n",
    "import numpy as np\n",
    "import pandas as pd\n",
    "\n",
    "# Load the model and tokenizer\n",
    "MODEL = \"cardiffnlp/twitter-roberta-base-sentiment\"\n",
    "tokenizer = AutoTokenizer.from_pretrained(MODEL)\n",
    "model = AutoModelForSequenceClassification.from_pretrained(MODEL)\n",
    "labels = [\"bad\", \"neutral\", \"good\"]\n",
    "\n",
    "def predict_single_sentiment(text):\n",
    "    \"\"\"\n",
    "    Predict sentiment for a single text input\n",
    "    Returns: tuple (sentiment, confidence)\n",
    "    \"\"\"\n",
    "    # Tokenize the input text\n",
    "    inputs = tokenizer(text, return_tensors=\"pt\", truncation=True, padding=True)\n",
    "    \n",
    "    # Get model predictions\n",
    "    outputs = model(**inputs)\n",
    "    scores = outputs.logits.detach().numpy()\n",
    "    probabilities = torch.nn.functional.softmax(torch.tensor(scores), dim=-1)\n",
    "    \n",
    "    # Determine the sentiment\n",
    "    sentiment_index = np.argmax(probabilities.numpy(), axis=1)[0]\n",
    "    sentiment = labels[sentiment_index]\n",
    "    confidence = probabilities[0][sentiment_index].item()\n",
    "    \n",
    "    return sentiment, confidence\n",
    "\n",
    "def predict_dataframe_sentiment(df, text_column='processed_text'):\n",
    "    \"\"\"\n",
    "    Predict sentiment for all texts in a DataFrame\n",
    "    Args:\n",
    "        df: pandas DataFrame\n",
    "        text_column: name of the column containing text\n",
    "    Returns: DataFrame with added sentiment and confidence columns\n",
    "    \"\"\"\n",
    "    # Create new columns for results\n",
    "    df['sentiment'] = ''\n",
    "    df['confidence'] = 0.0\n",
    "    \n",
    "    # Process each text in the DataFrame\n",
    "    for idx in df.index:\n",
    "        text = df.loc[idx, text_column]\n",
    "        sentiment, confidence = predict_single_sentiment(text)\n",
    "        df.loc[idx, 'sentiment'] = sentiment\n",
    "        df.loc[idx, 'confidence'] = confidence\n",
    "    \n",
    "    return df"
   ]
  },
  {
   "cell_type": "markdown",
   "metadata": {},
   "source": [
    "#### Example usage:"
   ]
  },
  {
   "cell_type": "code",
   "execution_count": 46,
   "metadata": {},
   "outputs": [
    {
     "name": "stderr",
     "output_type": "stream",
     "text": [
      "Asking to truncate to max_length but no maximum length is provided and the model has no predefined maximum length. Default to no truncation.\n"
     ]
    },
    {
     "name": "stdout",
     "output_type": "stream",
     "text": [
      "Sentiment: good, Confidence: 0.99\n"
     ]
    }
   ],
   "source": [
    "# For single text:\n",
    "sentiment, confidence = predict_single_sentiment(\"I love this product!\")\n",
    "print(f\"Sentiment: {sentiment}, Confidence: {confidence:.2f}\")"
   ]
  },
  {
   "cell_type": "code",
   "execution_count": null,
   "metadata": {},
   "outputs": [],
   "source": [
    "# For DataFrame:\n",
    "data = pd.read_csv(r\"D:\\AI\\NLP\\HandsOn\\sentiment-analysis\\artifacts\\feature_transformation\\20250116_043222\\test_split.csv\",index_col=0)\n",
    "data = data.head(50)\n",
    "results_df = predict_dataframe_sentiment(data)"
   ]
  },
  {
   "cell_type": "code",
   "execution_count": 49,
   "metadata": {},
   "outputs": [
    {
     "data": {
      "text/plain": [
       "tweets            How will ChatGPT affect the Web3 space? Indust...\n",
       "labels                                                          bad\n",
       "processed_text            chatgpt affect web3 space industri answer\n",
       "text_length                                                     104\n",
       "sentiment                                                   neutral\n",
       "confidence                                                 0.863655\n",
       "Name: 162912, dtype: object"
      ]
     },
     "execution_count": 49,
     "metadata": {},
     "output_type": "execute_result"
    }
   ],
   "source": [
    "results_df.iloc[0]"
   ]
  },
  {
   "cell_type": "code",
   "execution_count": null,
   "metadata": {},
   "outputs": [],
   "source": []
  }
 ],
 "metadata": {
  "kernelspec": {
   "display_name": "SentiScope-env",
   "language": "python",
   "name": "python3"
  },
  "language_info": {
   "codemirror_mode": {
    "name": "ipython",
    "version": 3
   },
   "file_extension": ".py",
   "mimetype": "text/x-python",
   "name": "python",
   "nbconvert_exporter": "python",
   "pygments_lexer": "ipython3",
   "version": "3.11.0"
  }
 },
 "nbformat": 4,
 "nbformat_minor": 2
}
